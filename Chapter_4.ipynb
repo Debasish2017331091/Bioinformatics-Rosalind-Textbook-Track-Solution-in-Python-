{
  "nbformat": 4,
  "nbformat_minor": 0,
  "metadata": {
    "colab": {
      "provenance": [],
      "collapsed_sections": [
        "YtDeJa_tKCY8",
        "UpS04gaAVI8M",
        "AKkdcUurbysN"
      ]
    },
    "kernelspec": {
      "name": "python3",
      "display_name": "Python 3"
    },
    "language_info": {
      "name": "python"
    }
  },
  "cells": [
    {
      "cell_type": "markdown",
      "source": [
        "Excluded problem BA3K-M"
      ],
      "metadata": {
        "id": "PGzkBJNQLB56"
      }
    },
    {
      "cell_type": "markdown",
      "source": [
        "## Task 1 : BA4A\n"
      ],
      "metadata": {
        "id": "YtDeJa_tKCY8"
      }
    },
    {
      "cell_type": "code",
      "source": [
        "def get_codon_table():\n",
        "  table= '''UUU F      CUU L      AUU I      GUU V\n",
        "            UUC F      CUC L      AUC I      GUC V\n",
        "            UUA L      CUA L      AUA I      GUA V\n",
        "            UUG L      CUG L      AUG M      GUG V\n",
        "            UCU S      CCU P      ACU T      GCU A\n",
        "            UCC S      CCC P      ACC T      GCC A\n",
        "            UCA S      CCA P      ACA T      GCA A\n",
        "            UCG S      CCG P      ACG T      GCG A\n",
        "            UAU Y      CAU H      AAU N      GAU D\n",
        "            UAC Y      CAC H      AAC N      GAC D\n",
        "            UAA Stop   CAA Q      AAA K      GAA E\n",
        "            UAG Stop   CAG Q      AAG K      GAG E\n",
        "            UGU C      CGU R      AGU S      GGU G\n",
        "            UGC C      CGC R      AGC S      GGC G\n",
        "            UGA Stop   CGA R      AGA R      GGA G\n",
        "            UGG W      CGG R      AGG R      GGG G '''\n",
        "  table = table.split()\n",
        "  return dict(zip(table[0::2],table[1::2]))\n",
        "\n",
        "# def RNA_to_Amino_Acid(rna):\n",
        "#   amino_acid=\"\"\n",
        "#   dict1=get_codon_table()\n",
        "#   for i in range(0,len(rna),3):\n",
        "#     temp=rna[i:i+3]\n",
        "#     print(temp)\n",
        "#     print(dict1[temp])\n",
        "#     amino_acid+=dict1[temp]\n",
        "#   print(amino_acid)\n",
        "#   return amino_acid\n",
        "\n",
        "def RNA_to_Amino_Acid(rna):\n",
        "  codon_dict=get_codon_table()\n",
        "  print()\n",
        "  return ''.join(codon_dict[rna[i:i+3]] for i in range(0,len(rna),3) if codon_dict[rna[i:i+3]]!='Stop')\n",
        "\n",
        "print(RNA_to_Amino_Acid(\"AUGGCCAUGGCGCCCAGAACUGAGAUCAAUAGUACCCGUAUUAACGGGUGA\"))"
      ],
      "metadata": {
        "colab": {
          "base_uri": "https://localhost:8080/"
        },
        "id": "NMpvx1hrPCEq",
        "outputId": "50a7e789-646f-4876-8618-f30603e29d0c"
      },
      "execution_count": 3,
      "outputs": [
        {
          "output_type": "stream",
          "name": "stdout",
          "text": [
            "\n",
            "MAMAPRTEINSTRING\n"
          ]
        }
      ]
    },
    {
      "cell_type": "markdown",
      "source": [
        "## Task 2 : BA4B"
      ],
      "metadata": {
        "id": "UpS04gaAVI8M"
      }
    },
    {
      "cell_type": "code",
      "source": [
        "import itertools\n",
        "from collections import defaultdict\n",
        "\n",
        "def reverse(seq):\n",
        "  complement = dict(zip('ACGT','TGCA'))\n",
        "  return ''.join(complement[base] for base in seq[::-1])\n",
        "\n",
        "def get_anti_codon_dict():\n",
        "  codon_dict=get_codon_table()\n",
        "  anti_codon_dict = defaultdict(list)\n",
        "  for k,v in codon_dict.items():\n",
        "    anti_codon_dict[v].append(k)\n",
        "  return anti_codon_dict\n",
        "\n",
        "def peptide_to_dna(peptide):\n",
        "  anti_codon_dict=get_anti_codon_dict()\n",
        "  rna_list = [anti_codon_dict[a] for a in peptide]\n",
        "  return [''.join(s).replace('U','T') for s in itertools.product(*rna_list)]\n",
        "\n",
        "def reverse_translate(dna,peptide):\n",
        "  candidate_dna_list = peptide_to_dna(peptide)\n",
        "  candidate_dna_list +=[reverse(d) for d in candidate_dna_list]\n",
        "  k=len(peptide)*3\n",
        "  return [dna[i:i+k] for i in range(len(dna)-k+1) if dna[i:i+k] in candidate_dna_list]\n",
        "\n",
        "dna=\"ATGGCCATGGCCCCCAGAACTGAGATCAATAGTACCCGTATTAACGGGTGA\"\n",
        "peptide=\"MA\"\n",
        "print('\\n'.join(reverse_translate(dna,peptide)))"
      ],
      "metadata": {
        "id": "FNgCvFF0VO6R",
        "colab": {
          "base_uri": "https://localhost:8080/"
        },
        "outputId": "33f38e48-2b93-4987-9453-fba7042218d5"
      },
      "execution_count": 4,
      "outputs": [
        {
          "output_type": "stream",
          "name": "stdout",
          "text": [
            "ATGGCC\n",
            "GGCCAT\n",
            "ATGGCC\n"
          ]
        }
      ]
    },
    {
      "cell_type": "markdown",
      "source": [
        "## Task 3 : BA4C"
      ],
      "metadata": {
        "id": "AKkdcUurbysN"
      }
    },
    {
      "cell_type": "code",
      "source": [
        "def get_mess():\n",
        "  return {\n",
        "      'G':57 , 'A':71 , 'S':87 , 'P': 97 ,'V':99 ,\n",
        "      'T':101, 'C':103, 'I':113, 'L':113 ,'N':114,\n",
        "      'D':115, 'K':128, 'Q':128 ,'E':129 ,'M':131,\n",
        "      'H':137, 'F':147, 'R':156, 'Y':163, 'W':186\n",
        "  }\n",
        "def Spectrum_Cyclic_Peptide(seq):\n",
        "  mess=get_mess()\n",
        "  k=len(seq);\n",
        "  messes=[0]\n",
        "  seq+=seq[0:k-1]\n",
        "  for i in range(0,k,1):\n",
        "    for j in range(i+1,i+k,1):\n",
        "      temp=0;\n",
        "      # print(seq[i:j])\n",
        "      for l in range(i,j,1):\n",
        "        temp+=mess[seq[l]]\n",
        "      messes.append(temp)\n",
        "  # print(messes)\n",
        "  mass = 0\n",
        "  for x in seq:\n",
        "    mass += mess[x]\n",
        "  messes.append(mass)\n",
        "  return messes\n",
        "\n",
        "seq=\"LEQN\"\n",
        "print(Spectrum_Cyclic_Peptide(seq))"
      ],
      "metadata": {
        "colab": {
          "base_uri": "https://localhost:8080/"
        },
        "id": "V9jq60Dpd1Jt",
        "outputId": "34c9af74-8cc0-4012-df71-9426b8c9e6ef"
      },
      "execution_count": 5,
      "outputs": [
        {
          "output_type": "stream",
          "name": "stdout",
          "text": [
            "[0, 113, 242, 370, 129, 257, 371, 128, 242, 355, 114, 227, 356, 854]\n"
          ]
        }
      ]
    },
    {
      "cell_type": "markdown",
      "source": [
        "## Task 4 : BA4D"
      ],
      "metadata": {
        "id": "pRoWL5nSdv9n"
      }
    },
    {
      "cell_type": "code",
      "source": [
        "peptide_masses=[57 , 71 , 87 ,  97 ,99 ,\n",
        "      101, 103, 113 ,114,\n",
        "      115, 128 ,129 ,131,\n",
        "      137, 147, 156, 163, 186]\n",
        "def peptide_count_for_masses(mass):\n",
        "  masses = [0]*(mass+1)\n",
        "  masses[0] = 1\n",
        "  for i in range(mass+1):\n",
        "    for j in range(len(peptide_masses)):\n",
        "      if i>=peptide_masses[j]:\n",
        "        masses[i]+=masses[i-peptide_masses[j]]\n",
        "  return masses[mass]\n",
        "\n",
        "mass=1024\n",
        "peptide_count_for_masses(mass)"
      ],
      "metadata": {
        "colab": {
          "base_uri": "https://localhost:8080/"
        },
        "id": "gZk8G17Gd2Du",
        "outputId": "9868bbae-99e5-4306-fdeb-385e80469f9e"
      },
      "execution_count": 6,
      "outputs": [
        {
          "output_type": "execute_result",
          "data": {
            "text/plain": [
              "14712706211"
            ]
          },
          "metadata": {},
          "execution_count": 6
        }
      ]
    },
    {
      "cell_type": "code",
      "source": [
        "y=[]\n",
        "x=[]\n",
        "for i in range(1,1000,1):\n",
        "  y.append(peptide_count_for_masses(i)) \n",
        "  x.append(i)\n",
        "import matplotlib.pyplot as plt\n",
        "plt.plot(x, y)"
      ],
      "metadata": {
        "colab": {
          "base_uri": "https://localhost:8080/",
          "height": 293
        },
        "id": "SrykIVglqLaI",
        "outputId": "720e46c1-0868-4f8b-e2c3-3390ea368003"
      },
      "execution_count": 7,
      "outputs": [
        {
          "output_type": "execute_result",
          "data": {
            "text/plain": [
              "[<matplotlib.lines.Line2D at 0x7effa44c9890>]"
            ]
          },
          "metadata": {},
          "execution_count": 7
        },
        {
          "output_type": "display_data",
          "data": {
            "text/plain": [
              "<Figure size 432x288 with 1 Axes>"
            ],
            "image/png": "[encoded data removed]"
          },
          "metadata": {
            "needs_background": "light"
          }
        }
      ]
    },
    {
      "cell_type": "markdown",
      "source": [
        "# Task 05: BA4J **Generate the Theoretical Spectrum of a Linear Peptide**"
      ],
      "metadata": {
        "id": "UoXwjbqKH9fs"
      }
    },
    {
      "cell_type": "code",
      "source": [
        "def get_mass():\n",
        "  return {\n",
        "      'G':57 , 'A':71 , 'S':87 , 'P': 97 ,'V':99 ,\n",
        "      'T':101, 'C':103, 'I':113, 'L':113 ,'N':114,\n",
        "      'D':115, 'K':128, 'Q':128 ,'E':129 ,'M':131,\n",
        "      'H':137, 'F':147, 'R':156, 'Y':163, 'W':186\n",
        "  }\n",
        "\n",
        "def linear_spectrum(peptide):\n",
        "  mass=get_mass()\n",
        "  prefix_mass=[0]\n",
        "  for i in range(0,len(peptide),1):\n",
        "    prefix_mass.append( (mass[peptide[i]]+prefix_mass[i]) )\n",
        "  linearSpectrum=[0]\n",
        "  for i in range(0,len(peptide),1):\n",
        "    for j in range(i+1,len(peptide)+1,1):\n",
        "      linearSpectrum.append(prefix_mass[j]-prefix_mass[i])\n",
        "  \n",
        "  linearSpectrum.sort()\n",
        "  return linearSpectrum"
      ],
      "metadata": {
        "id": "BJmAJjudIBkG"
      },
      "execution_count": 8,
      "outputs": []
    },
    {
      "cell_type": "code",
      "source": [
        "print(linear_spectrum(\"NQEL\"))"
      ],
      "metadata": {
        "colab": {
          "base_uri": "https://localhost:8080/"
        },
        "id": "xZowOVF7IKGQ",
        "outputId": "df478950-81e5-4a0b-bb41-d4390548bde4"
      },
      "execution_count": 9,
      "outputs": [
        {
          "output_type": "stream",
          "name": "stdout",
          "text": [
            "[0, 113, 114, 128, 129, 242, 242, 257, 370, 371, 484]\n"
          ]
        }
      ]
    },
    {
      "cell_type": "markdown",
      "source": [
        "# Task 06: BA4K **Compute the Score of a Linear Peptide**"
      ],
      "metadata": {
        "id": "-rZF_-EUIQ5g"
      }
    },
    {
      "cell_type": "code",
      "source": [
        "def LinearScore(Peptide, Spectrum):\n",
        "  LinearSpectrum=linear_spectrum(Peptide)\n",
        "  track=0\n",
        "  count=0\n",
        "\n",
        "  for i in Spectrum:\n",
        "    for j in range(track,len(LinearSpectrum)):\n",
        "      if (i==LinearSpectrum[j]):\n",
        "        track=track+1\n",
        "        count=count+1\n",
        "        break\n",
        "  return count\n",
        "Peptide=\"NQEL\"\n",
        "Spectrum='''0 99 113 114 128 227 257 299 355 356 370 371 484'''.split()\n",
        "Spectrum=[eval(i) for i in Spectrum]\n",
        "\n",
        "print(Peptide, Spectrum)\n",
        "print(LinearScore(Peptide, Spectrum))"
      ],
      "metadata": {
        "colab": {
          "base_uri": "https://localhost:8080/"
        },
        "id": "6I8Cv87KIR-z",
        "outputId": "50d31885-3f94-4d01-83da-89b270b97ff0"
      },
      "execution_count": 10,
      "outputs": [
        {
          "output_type": "stream",
          "name": "stdout",
          "text": [
            "NQEL [0, 99, 113, 114, 128, 227, 257, 299, 355, 356, 370, 371, 484]\n",
            "8\n"
          ]
        }
      ]
    },
    {
      "cell_type": "markdown",
      "source": [
        "Excluded problem from sylebus 4M\n"
      ],
      "metadata": {
        "id": "2qPDTEInsI07"
      }
    }
  ]
}